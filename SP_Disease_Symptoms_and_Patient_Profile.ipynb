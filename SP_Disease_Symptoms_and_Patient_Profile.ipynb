{
  "metadata": {
    "kernelspec": {
      "language": "python",
      "display_name": "Python 3",
      "name": "python3"
    },
    "language_info": {
      "pygments_lexer": "ipython3",
      "nbconvert_exporter": "python",
      "version": "3.6.4",
      "file_extension": ".py",
      "codemirror_mode": {
        "name": "ipython",
        "version": 3
      },
      "name": "python",
      "mimetype": "text/x-python"
    },
    "colab": {
      "provenance": [],
      "include_colab_link": true
    }
  },
  "nbformat_minor": 0,
  "nbformat": 4,
  "cells": [
    {
      "cell_type": "markdown",
      "metadata": {
        "id": "view-in-github",
        "colab_type": "text"
      },
      "source": [
        "<a href=\"https://colab.research.google.com/github/pashruti31/Python/blob/main/SP_Disease_Symptoms_and_Patient_Profile.ipynb\" target=\"_parent\"><img src=\"https://colab.research.google.com/assets/colab-badge.svg\" alt=\"Open In Colab\"/></a>"
      ]
    },
    {
      "source": [
        "\n",
        "# IMPORTANT: RUN THIS CELL IN ORDER TO IMPORT YOUR KAGGLE DATA SOURCES\n",
        "# TO THE CORRECT LOCATION (/kaggle/input) IN YOUR NOTEBOOK,\n",
        "# THEN FEEL FREE TO DELETE THIS CELL.\n",
        "# NOTE: THIS NOTEBOOK ENVIRONMENT DIFFERS FROM KAGGLE'S PYTHON\n",
        "# ENVIRONMENT SO THERE MAY BE MISSING LIBRARIES USED BY YOUR\n",
        "# NOTEBOOK.\n",
        "\n",
        "import os\n",
        "import sys\n",
        "from tempfile import NamedTemporaryFile\n",
        "from urllib.request import urlopen\n",
        "from urllib.parse import unquote, urlparse\n",
        "from urllib.error import HTTPError\n",
        "from zipfile import ZipFile\n",
        "import tarfile\n",
        "import shutil\n",
        "\n",
        "CHUNK_SIZE = 40960\n",
        "DATA_SOURCE_MAPPING = 'dkaggle kernels pull rospel/basic-medical-info-a-key-to-predict-disease'\n",
        "\n",
        "KAGGLE_INPUT_PATH='/kaggle/input'\n",
        "KAGGLE_WORKING_PATH='/kaggle/working'\n",
        "KAGGLE_SYMLINK='kaggle'z\n",
        "\n",
        "!umount /kaggle/input/ 2> /dev/null\n",
        "shutil.rmtree('/kaggle/input', ignore_errors=True)\n",
        "os.makedirs(KAGGLE_INPUT_PATH, 0o777, exist_ok=True)\n",
        "os.makedirs(KAGGLE_WORKING_PATH, 0o777, exist_ok=True)\n",
        "\n",
        "try:\n",
        "  os.symlink(KAGGLE_INPUT_PATH, os.path.join(\"..\", 'input'), target_is_directory=True)\n",
        "except FileExistsError:\n",
        "  pass\n",
        "try:\n",
        "  os.symlink(KAGGLE_WORKING_PATH, os.path.join(\"..\", 'working'), target_is_directory=True)\n",
        "except FileExistsError:\n",
        "  pass\n",
        "\n",
        "for data_source_mapping in DATA_SOURCE_MAPPING.split(','):\n",
        "    directory, download_url_encoded = data_source_mapping.split(':')\n",
        "    download_url = unquote(download_url_encoded)\n",
        "    filename = urlparse(download_url).path\n",
        "    destination_path = os.path.join(KAGGLE_INPUT_PATH, directory)\n",
        "    try:\n",
        "        with urlopen(download_url) as fileres, NamedTemporaryFile() as tfile:\n",
        "            total_length = fileres.headers['content-length']\n",
        "            print(f'Downloading {directory}, {total_length} bytes compressed')\n",
        "            dl = 0\n",
        "            data = fileres.read(CHUNK_SIZE)\n",
        "            while len(data) > 0:\n",
        "                dl += len(data)\n",
        "                tfile.write(data)\n",
        "                done = int(50 * dl / int(total_length))\n",
        "                sys.stdout.write(f\"\\r[{'=' * done}{' ' * (50-done)}] {dl} bytes downloaded\")\n",
        "                sys.stdout.flush()\n",
        "                data = fileres.read(CHUNK_SIZE)\n",
        "            if filename.endswith('.zip'):\n",
        "              with ZipFile(tfile) as zfile:\n",
        "                zfile.extractall(destination_path)\n",
        "            else:\n",
        "              with tarfile.open(tfile.name) as tarfile:\n",
        "                tarfile.extractall(destination_path)\n",
        "            print(f'\\nDownloaded and uncompressed: {directory}')\n",
        "    except HTTPError as e:\n",
        "        print(f'Failed to load (likely expired) {download_url} to path {destination_path}')\n",
        "        continue\n",
        "    except OSError as e:\n",
        "        print(f'Failed to load {download_url} to path {destination_path}')\n",
        "        continue\n",
        "\n",
        "print('Data source import complete.')\n"
      ],
      "metadata": {
        "id": "d9zNP049WccE",
        "colab": {
          "base_uri": "https://localhost:8080/",
          "height": 211
        },
        "outputId": "a310d200-d954-4c23-e45a-95169cea22bf"
      },
      "cell_type": "code",
      "outputs": [
        {
          "output_type": "error",
          "ename": "ValueError",
          "evalue": "not enough values to unpack (expected 2, got 1)",
          "traceback": [
            "\u001b[0;31m---------------------------------------------------------------------------\u001b[0m",
            "\u001b[0;31mValueError\u001b[0m                                Traceback (most recent call last)",
            "\u001b[0;32m<ipython-input-2-d4ef403a5413>\u001b[0m in \u001b[0;36m<cell line: 39>\u001b[0;34m()\u001b[0m\n\u001b[1;32m     38\u001b[0m \u001b[0;34m\u001b[0m\u001b[0m\n\u001b[1;32m     39\u001b[0m \u001b[0;32mfor\u001b[0m \u001b[0mdata_source_mapping\u001b[0m \u001b[0;32min\u001b[0m \u001b[0mDATA_SOURCE_MAPPING\u001b[0m\u001b[0;34m.\u001b[0m\u001b[0msplit\u001b[0m\u001b[0;34m(\u001b[0m\u001b[0;34m','\u001b[0m\u001b[0;34m)\u001b[0m\u001b[0;34m:\u001b[0m\u001b[0;34m\u001b[0m\u001b[0;34m\u001b[0m\u001b[0m\n\u001b[0;32m---> 40\u001b[0;31m     \u001b[0mdirectory\u001b[0m\u001b[0;34m,\u001b[0m \u001b[0mdownload_url_encoded\u001b[0m \u001b[0;34m=\u001b[0m \u001b[0mdata_source_mapping\u001b[0m\u001b[0;34m.\u001b[0m\u001b[0msplit\u001b[0m\u001b[0;34m(\u001b[0m\u001b[0;34m':'\u001b[0m\u001b[0;34m)\u001b[0m\u001b[0;34m\u001b[0m\u001b[0;34m\u001b[0m\u001b[0m\n\u001b[0m\u001b[1;32m     41\u001b[0m     \u001b[0mdownload_url\u001b[0m \u001b[0;34m=\u001b[0m \u001b[0munquote\u001b[0m\u001b[0;34m(\u001b[0m\u001b[0mdownload_url_encoded\u001b[0m\u001b[0;34m)\u001b[0m\u001b[0;34m\u001b[0m\u001b[0;34m\u001b[0m\u001b[0m\n\u001b[1;32m     42\u001b[0m     \u001b[0mfilename\u001b[0m \u001b[0;34m=\u001b[0m \u001b[0murlparse\u001b[0m\u001b[0;34m(\u001b[0m\u001b[0mdownload_url\u001b[0m\u001b[0;34m)\u001b[0m\u001b[0;34m.\u001b[0m\u001b[0mpath\u001b[0m\u001b[0;34m\u001b[0m\u001b[0;34m\u001b[0m\u001b[0m\n",
            "\u001b[0;31mValueError\u001b[0m: not enough values to unpack (expected 2, got 1)"
          ]
        }
      ],
      "execution_count": null
    },
    {
      "cell_type": "code",
      "source": [],
      "metadata": {
        "id": "UuI3GKy2YCnz"
      },
      "execution_count": null,
      "outputs": []
    },
    {
      "cell_type": "markdown",
      "source": [
        "# Basic Medical Info: A Key to Predict Disease?"
      ],
      "metadata": {
        "id": "TNhIQOZgWccF"
      }
    },
    {
      "cell_type": "markdown",
      "source": [
        "An aproach with K-NN and support vector machines"
      ],
      "metadata": {
        "id": "ZqRcOmCoWccG"
      }
    },
    {
      "cell_type": "markdown",
      "source": [
        "## Table of Contents\n",
        "- [Introduction](#Introduction)\n",
        "- [Data Exploration](#Data-Exploration)\n",
        "- [Model Selection](#Model-Selection)\n",
        "- [Fine-Tuning](#Fine-tuning)\n",
        "- [Model Testing](#Model-Testing)\n",
        "- [Conclusion](#Conclusion)"
      ],
      "metadata": {
        "id": "-evalsDeWccH"
      }
    },
    {
      "cell_type": "markdown",
      "source": [
        "## Introduction"
      ],
      "metadata": {
        "id": "HAleblD4WccH"
      }
    },
    {
      "cell_type": "markdown",
      "source": [
        "Welcome! In this notebook, we'll harness the power of basic health indicators to predict diseases. Using the Disease Symptoms and Patient Profile Dataset, we aim to build a model that can accurately identify diseases based on basic symptoms and health indicators.\n",
        "\n",
        "Whether you are a healthcare professional, a medical researcher, a data scientist, or simply a data enthusiast, this notebook will provide you with a comprehensive guide to predicting diseases using basic medical information. Let's dive in and explore the potential of this dataset. I really hope you learn new things in this notebook :)."
      ],
      "metadata": {
        "id": "nK8HbKoTWccH"
      }
    },
    {
      "cell_type": "markdown",
      "source": [
        "## Data Exploration"
      ],
      "metadata": {
        "id": "j4PwWINnWccH"
      }
    },
    {
      "cell_type": "markdown",
      "source": [
        "First, let's start by importing the necessary library, `pandas`, which will help us in data manipulation and analysis.\n",
        "\n",
        "We then load our dataset using `pd.read_csv()` and finally, we use the `head()` function to display the first rows of our dataset. This gives us a glimpse of our data structure."
      ],
      "metadata": {
        "id": "VRmYyix6WccH"
      }
    },
    {
      "cell_type": "code",
      "source": [
        "import pandas as pd\n",
        "df = pd.read_csv('/kaggle/input/disease-symptoms-and-patient-profile-dataset/Disease_symptom_and_patient_profile_dataset.csv')\n",
        "df.head()"
      ],
      "metadata": {
        "id": "pqmfrlI2WccH",
        "colab": {
          "base_uri": "https://localhost:8080/",
          "height": 206
        },
        "outputId": "7cd1b801-6180-40c8-f8b8-bb477991ac75"
      },
      "execution_count": null,
      "outputs": [
        {
          "output_type": "execute_result",
          "data": {
            "text/plain": [
              "       Disease Fever Cough Fatigue Difficulty Breathing  Age  Gender  \\\n",
              "0    Influenza   Yes    No     Yes                  Yes   19  Female   \n",
              "1  Common Cold    No   Yes     Yes                   No   25  Female   \n",
              "2       Eczema    No   Yes     Yes                   No   25  Female   \n",
              "3       Asthma   Yes   Yes      No                  Yes   25    Male   \n",
              "4       Asthma   Yes   Yes      No                  Yes   25    Male   \n",
              "\n",
              "  Blood Pressure Cholesterol Level Outcome Variable  \n",
              "0            Low            Normal         Positive  \n",
              "1         Normal            Normal         Negative  \n",
              "2         Normal            Normal         Negative  \n",
              "3         Normal            Normal         Positive  \n",
              "4         Normal            Normal         Positive  "
            ],
            "text/html": [
              "\n",
              "  <div id=\"df-2758687e-fb36-4d33-a8d9-9b1f92d1f0b3\" class=\"colab-df-container\">\n",
              "    <div>\n",
              "<style scoped>\n",
              "    .dataframe tbody tr th:only-of-type {\n",
              "        vertical-align: middle;\n",
              "    }\n",
              "\n",
              "    .dataframe tbody tr th {\n",
              "        vertical-align: top;\n",
              "    }\n",
              "\n",
              "    .dataframe thead th {\n",
              "        text-align: right;\n",
              "    }\n",
              "</style>\n",
              "<table border=\"1\" class=\"dataframe\">\n",
              "  <thead>\n",
              "    <tr style=\"text-align: right;\">\n",
              "      <th></th>\n",
              "      <th>Disease</th>\n",
              "      <th>Fever</th>\n",
              "      <th>Cough</th>\n",
              "      <th>Fatigue</th>\n",
              "      <th>Difficulty Breathing</th>\n",
              "      <th>Age</th>\n",
              "      <th>Gender</th>\n",
              "      <th>Blood Pressure</th>\n",
              "      <th>Cholesterol Level</th>\n",
              "      <th>Outcome Variable</th>\n",
              "    </tr>\n",
              "  </thead>\n",
              "  <tbody>\n",
              "    <tr>\n",
              "      <th>0</th>\n",
              "      <td>Influenza</td>\n",
              "      <td>Yes</td>\n",
              "      <td>No</td>\n",
              "      <td>Yes</td>\n",
              "      <td>Yes</td>\n",
              "      <td>19</td>\n",
              "      <td>Female</td>\n",
              "      <td>Low</td>\n",
              "      <td>Normal</td>\n",
              "      <td>Positive</td>\n",
              "    </tr>\n",
              "    <tr>\n",
              "      <th>1</th>\n",
              "      <td>Common Cold</td>\n",
              "      <td>No</td>\n",
              "      <td>Yes</td>\n",
              "      <td>Yes</td>\n",
              "      <td>No</td>\n",
              "      <td>25</td>\n",
              "      <td>Female</td>\n",
              "      <td>Normal</td>\n",
              "      <td>Normal</td>\n",
              "      <td>Negative</td>\n",
              "    </tr>\n",
              "    <tr>\n",
              "      <th>2</th>\n",
              "      <td>Eczema</td>\n",
              "      <td>No</td>\n",
              "      <td>Yes</td>\n",
              "      <td>Yes</td>\n",
              "      <td>No</td>\n",
              "      <td>25</td>\n",
              "      <td>Female</td>\n",
              "      <td>Normal</td>\n",
              "      <td>Normal</td>\n",
              "      <td>Negative</td>\n",
              "    </tr>\n",
              "    <tr>\n",
              "      <th>3</th>\n",
              "      <td>Asthma</td>\n",
              "      <td>Yes</td>\n",
              "      <td>Yes</td>\n",
              "      <td>No</td>\n",
              "      <td>Yes</td>\n",
              "      <td>25</td>\n",
              "      <td>Male</td>\n",
              "      <td>Normal</td>\n",
              "      <td>Normal</td>\n",
              "      <td>Positive</td>\n",
              "    </tr>\n",
              "    <tr>\n",
              "      <th>4</th>\n",
              "      <td>Asthma</td>\n",
              "      <td>Yes</td>\n",
              "      <td>Yes</td>\n",
              "      <td>No</td>\n",
              "      <td>Yes</td>\n",
              "      <td>25</td>\n",
              "      <td>Male</td>\n",
              "      <td>Normal</td>\n",
              "      <td>Normal</td>\n",
              "      <td>Positive</td>\n",
              "    </tr>\n",
              "  </tbody>\n",
              "</table>\n",
              "</div>\n",
              "    <div class=\"colab-df-buttons\">\n",
              "\n",
              "  <div class=\"colab-df-container\">\n",
              "    <button class=\"colab-df-convert\" onclick=\"convertToInteractive('df-2758687e-fb36-4d33-a8d9-9b1f92d1f0b3')\"\n",
              "            title=\"Convert this dataframe to an interactive table.\"\n",
              "            style=\"display:none;\">\n",
              "\n",
              "  <svg xmlns=\"http://www.w3.org/2000/svg\" height=\"24px\" viewBox=\"0 -960 960 960\">\n",
              "    <path d=\"M120-120v-720h720v720H120Zm60-500h600v-160H180v160Zm220 220h160v-160H400v160Zm0 220h160v-160H400v160ZM180-400h160v-160H180v160Zm440 0h160v-160H620v160ZM180-180h160v-160H180v160Zm440 0h160v-160H620v160Z\"/>\n",
              "  </svg>\n",
              "    </button>\n",
              "\n",
              "  <style>\n",
              "    .colab-df-container {\n",
              "      display:flex;\n",
              "      gap: 12px;\n",
              "    }\n",
              "\n",
              "    .colab-df-convert {\n",
              "      background-color: #E8F0FE;\n",
              "      border: none;\n",
              "      border-radius: 50%;\n",
              "      cursor: pointer;\n",
              "      display: none;\n",
              "      fill: #1967D2;\n",
              "      height: 32px;\n",
              "      padding: 0 0 0 0;\n",
              "      width: 32px;\n",
              "    }\n",
              "\n",
              "    .colab-df-convert:hover {\n",
              "      background-color: #E2EBFA;\n",
              "      box-shadow: 0px 1px 2px rgba(60, 64, 67, 0.3), 0px 1px 3px 1px rgba(60, 64, 67, 0.15);\n",
              "      fill: #174EA6;\n",
              "    }\n",
              "\n",
              "    .colab-df-buttons div {\n",
              "      margin-bottom: 4px;\n",
              "    }\n",
              "\n",
              "    [theme=dark] .colab-df-convert {\n",
              "      background-color: #3B4455;\n",
              "      fill: #D2E3FC;\n",
              "    }\n",
              "\n",
              "    [theme=dark] .colab-df-convert:hover {\n",
              "      background-color: #434B5C;\n",
              "      box-shadow: 0px 1px 3px 1px rgba(0, 0, 0, 0.15);\n",
              "      filter: drop-shadow(0px 1px 2px rgba(0, 0, 0, 0.3));\n",
              "      fill: #FFFFFF;\n",
              "    }\n",
              "  </style>\n",
              "\n",
              "    <script>\n",
              "      const buttonEl =\n",
              "        document.querySelector('#df-2758687e-fb36-4d33-a8d9-9b1f92d1f0b3 button.colab-df-convert');\n",
              "      buttonEl.style.display =\n",
              "        google.colab.kernel.accessAllowed ? 'block' : 'none';\n",
              "\n",
              "      async function convertToInteractive(key) {\n",
              "        const element = document.querySelector('#df-2758687e-fb36-4d33-a8d9-9b1f92d1f0b3');\n",
              "        const dataTable =\n",
              "          await google.colab.kernel.invokeFunction('convertToInteractive',\n",
              "                                                    [key], {});\n",
              "        if (!dataTable) return;\n",
              "\n",
              "        const docLinkHtml = 'Like what you see? Visit the ' +\n",
              "          '<a target=\"_blank\" href=https://colab.research.google.com/notebooks/data_table.ipynb>data table notebook</a>'\n",
              "          + ' to learn more about interactive tables.';\n",
              "        element.innerHTML = '';\n",
              "        dataTable['output_type'] = 'display_data';\n",
              "        await google.colab.output.renderOutput(dataTable, element);\n",
              "        const docLink = document.createElement('div');\n",
              "        docLink.innerHTML = docLinkHtml;\n",
              "        element.appendChild(docLink);\n",
              "      }\n",
              "    </script>\n",
              "  </div>\n",
              "\n",
              "\n",
              "<div id=\"df-91a33d0d-e918-496b-a802-e42eb06e4be1\">\n",
              "  <button class=\"colab-df-quickchart\" onclick=\"quickchart('df-91a33d0d-e918-496b-a802-e42eb06e4be1')\"\n",
              "            title=\"Suggest charts\"\n",
              "            style=\"display:none;\">\n",
              "\n",
              "<svg xmlns=\"http://www.w3.org/2000/svg\" height=\"24px\"viewBox=\"0 0 24 24\"\n",
              "     width=\"24px\">\n",
              "    <g>\n",
              "        <path d=\"M19 3H5c-1.1 0-2 .9-2 2v14c0 1.1.9 2 2 2h14c1.1 0 2-.9 2-2V5c0-1.1-.9-2-2-2zM9 17H7v-7h2v7zm4 0h-2V7h2v10zm4 0h-2v-4h2v4z\"/>\n",
              "    </g>\n",
              "</svg>\n",
              "  </button>\n",
              "\n",
              "<style>\n",
              "  .colab-df-quickchart {\n",
              "      --bg-color: #E8F0FE;\n",
              "      --fill-color: #1967D2;\n",
              "      --hover-bg-color: #E2EBFA;\n",
              "      --hover-fill-color: #174EA6;\n",
              "      --disabled-fill-color: #AAA;\n",
              "      --disabled-bg-color: #DDD;\n",
              "  }\n",
              "\n",
              "  [theme=dark] .colab-df-quickchart {\n",
              "      --bg-color: #3B4455;\n",
              "      --fill-color: #D2E3FC;\n",
              "      --hover-bg-color: #434B5C;\n",
              "      --hover-fill-color: #FFFFFF;\n",
              "      --disabled-bg-color: #3B4455;\n",
              "      --disabled-fill-color: #666;\n",
              "  }\n",
              "\n",
              "  .colab-df-quickchart {\n",
              "    background-color: var(--bg-color);\n",
              "    border: none;\n",
              "    border-radius: 50%;\n",
              "    cursor: pointer;\n",
              "    display: none;\n",
              "    fill: var(--fill-color);\n",
              "    height: 32px;\n",
              "    padding: 0;\n",
              "    width: 32px;\n",
              "  }\n",
              "\n",
              "  .colab-df-quickchart:hover {\n",
              "    background-color: var(--hover-bg-color);\n",
              "    box-shadow: 0 1px 2px rgba(60, 64, 67, 0.3), 0 1px 3px 1px rgba(60, 64, 67, 0.15);\n",
              "    fill: var(--button-hover-fill-color);\n",
              "  }\n",
              "\n",
              "  .colab-df-quickchart-complete:disabled,\n",
              "  .colab-df-quickchart-complete:disabled:hover {\n",
              "    background-color: var(--disabled-bg-color);\n",
              "    fill: var(--disabled-fill-color);\n",
              "    box-shadow: none;\n",
              "  }\n",
              "\n",
              "  .colab-df-spinner {\n",
              "    border: 2px solid var(--fill-color);\n",
              "    border-color: transparent;\n",
              "    border-bottom-color: var(--fill-color);\n",
              "    animation:\n",
              "      spin 1s steps(1) infinite;\n",
              "  }\n",
              "\n",
              "  @keyframes spin {\n",
              "    0% {\n",
              "      border-color: transparent;\n",
              "      border-bottom-color: var(--fill-color);\n",
              "      border-left-color: var(--fill-color);\n",
              "    }\n",
              "    20% {\n",
              "      border-color: transparent;\n",
              "      border-left-color: var(--fill-color);\n",
              "      border-top-color: var(--fill-color);\n",
              "    }\n",
              "    30% {\n",
              "      border-color: transparent;\n",
              "      border-left-color: var(--fill-color);\n",
              "      border-top-color: var(--fill-color);\n",
              "      border-right-color: var(--fill-color);\n",
              "    }\n",
              "    40% {\n",
              "      border-color: transparent;\n",
              "      border-right-color: var(--fill-color);\n",
              "      border-top-color: var(--fill-color);\n",
              "    }\n",
              "    60% {\n",
              "      border-color: transparent;\n",
              "      border-right-color: var(--fill-color);\n",
              "    }\n",
              "    80% {\n",
              "      border-color: transparent;\n",
              "      border-right-color: var(--fill-color);\n",
              "      border-bottom-color: var(--fill-color);\n",
              "    }\n",
              "    90% {\n",
              "      border-color: transparent;\n",
              "      border-bottom-color: var(--fill-color);\n",
              "    }\n",
              "  }\n",
              "</style>\n",
              "\n",
              "  <script>\n",
              "    async function quickchart(key) {\n",
              "      const quickchartButtonEl =\n",
              "        document.querySelector('#' + key + ' button');\n",
              "      quickchartButtonEl.disabled = true;  // To prevent multiple clicks.\n",
              "      quickchartButtonEl.classList.add('colab-df-spinner');\n",
              "      try {\n",
              "        const charts = await google.colab.kernel.invokeFunction(\n",
              "            'suggestCharts', [key], {});\n",
              "      } catch (error) {\n",
              "        console.error('Error during call to suggestCharts:', error);\n",
              "      }\n",
              "      quickchartButtonEl.classList.remove('colab-df-spinner');\n",
              "      quickchartButtonEl.classList.add('colab-df-quickchart-complete');\n",
              "    }\n",
              "    (() => {\n",
              "      let quickchartButtonEl =\n",
              "        document.querySelector('#df-91a33d0d-e918-496b-a802-e42eb06e4be1 button');\n",
              "      quickchartButtonEl.style.display =\n",
              "        google.colab.kernel.accessAllowed ? 'block' : 'none';\n",
              "    })();\n",
              "  </script>\n",
              "</div>\n",
              "\n",
              "    </div>\n",
              "  </div>\n"
            ],
            "application/vnd.google.colaboratory.intrinsic+json": {
              "type": "dataframe",
              "variable_name": "df",
              "summary": "{\n  \"name\": \"df\",\n  \"rows\": 349,\n  \"fields\": [\n    {\n      \"column\": \"Disease\",\n      \"properties\": {\n        \"dtype\": \"category\",\n        \"num_unique_values\": 116,\n        \"samples\": [\n          \"Pneumothorax\",\n          \"Hyperthyroidism\",\n          \"Malaria\"\n        ],\n        \"semantic_type\": \"\",\n        \"description\": \"\"\n      }\n    },\n    {\n      \"column\": \"Fever\",\n      \"properties\": {\n        \"dtype\": \"category\",\n        \"num_unique_values\": 2,\n        \"samples\": [\n          \"No\",\n          \"Yes\"\n        ],\n        \"semantic_type\": \"\",\n        \"description\": \"\"\n      }\n    },\n    {\n      \"column\": \"Cough\",\n      \"properties\": {\n        \"dtype\": \"category\",\n        \"num_unique_values\": 2,\n        \"samples\": [\n          \"Yes\",\n          \"No\"\n        ],\n        \"semantic_type\": \"\",\n        \"description\": \"\"\n      }\n    },\n    {\n      \"column\": \"Fatigue\",\n      \"properties\": {\n        \"dtype\": \"category\",\n        \"num_unique_values\": 2,\n        \"samples\": [\n          \"No\",\n          \"Yes\"\n        ],\n        \"semantic_type\": \"\",\n        \"description\": \"\"\n      }\n    },\n    {\n      \"column\": \"Difficulty Breathing\",\n      \"properties\": {\n        \"dtype\": \"category\",\n        \"num_unique_values\": 2,\n        \"samples\": [\n          \"No\",\n          \"Yes\"\n        ],\n        \"semantic_type\": \"\",\n        \"description\": \"\"\n      }\n    },\n    {\n      \"column\": \"Age\",\n      \"properties\": {\n        \"dtype\": \"number\",\n        \"std\": 13,\n        \"min\": 19,\n        \"max\": 90,\n        \"num_unique_values\": 26,\n        \"samples\": [\n          38,\n          52\n        ],\n        \"semantic_type\": \"\",\n        \"description\": \"\"\n      }\n    },\n    {\n      \"column\": \"Gender\",\n      \"properties\": {\n        \"dtype\": \"category\",\n        \"num_unique_values\": 2,\n        \"samples\": [\n          \"Male\",\n          \"Female\"\n        ],\n        \"semantic_type\": \"\",\n        \"description\": \"\"\n      }\n    },\n    {\n      \"column\": \"Blood Pressure\",\n      \"properties\": {\n        \"dtype\": \"category\",\n        \"num_unique_values\": 3,\n        \"samples\": [\n          \"Low\",\n          \"Normal\"\n        ],\n        \"semantic_type\": \"\",\n        \"description\": \"\"\n      }\n    },\n    {\n      \"column\": \"Cholesterol Level\",\n      \"properties\": {\n        \"dtype\": \"category\",\n        \"num_unique_values\": 3,\n        \"samples\": [\n          \"Normal\",\n          \"Low\"\n        ],\n        \"semantic_type\": \"\",\n        \"description\": \"\"\n      }\n    },\n    {\n      \"column\": \"Outcome Variable\",\n      \"properties\": {\n        \"dtype\": \"category\",\n        \"num_unique_values\": 2,\n        \"samples\": [\n          \"Negative\",\n          \"Positive\"\n        ],\n        \"semantic_type\": \"\",\n        \"description\": \"\"\n      }\n    }\n  ]\n}"
            }
          },
          "metadata": {},
          "execution_count": 10
        }
      ]
    },
    {
      "cell_type": "code",
      "source": [
        "df.dtypes"
      ],
      "metadata": {
        "id": "-ecBeJ_NWccI"
      },
      "execution_count": null,
      "outputs": []
    },
    {
      "cell_type": "markdown",
      "source": [
        "From the initial glance at our data, we can observe that most of our variables are categorical, with 'Age' being the only numerical variable.\n",
        "\n",
        "Categorical variables are often non-numeric and represent various categories or groups. In our case, these include symptoms (like fever, cough, fatigue, difficulty breathing), gender, blood pressure, cholesterol level, and the outcome variable (disease).\n",
        "\n",
        "Our target variable is 'Disease', which we are trying to predict. Let's explore this variable."
      ],
      "metadata": {
        "id": "qEIlwjtmWccI"
      }
    },
    {
      "cell_type": "code",
      "source": [
        "print(sum(df.Disease.value_counts() >= 1))\n",
        "print(sum(df.Disease.value_counts() == 1))"
      ],
      "metadata": {
        "id": "agMkx0kIWccI"
      },
      "execution_count": null,
      "outputs": []
    },
    {
      "cell_type": "code",
      "source": [
        "print(sum(df.Disease.value_counts() > 9))\n",
        "print(sum(df.Disease.value_counts() <= 9))"
      ],
      "metadata": {
        "id": "f-iR_ka5WccI"
      },
      "execution_count": null,
      "outputs": []
    },
    {
      "cell_type": "markdown",
      "source": [
        "Upon examining the 'Disease' column, we notice a large number of unique diseases, many of which have only 1 to 5 samples. For a reliable disease prediction model, this sample size is insufficient.\n",
        "\n",
        "Predicting diseases with such limited information could lead to inaccurate results and misdiagnosis, which we want to avoid. Therefore, to ensure the robustness of our model, we will focus only on the diseases that have 10 or more samples.\n",
        "\n",
        "This decision will reduce the number of classes we are predicting down to 6, making our model more manageable and potentially more accurate."
      ],
      "metadata": {
        "id": "1tVb5x-6WccI"
      }
    },
    {
      "cell_type": "code",
      "source": [
        "df = df[df.groupby('Disease')['Disease'].transform('size') >= 10]"
      ],
      "metadata": {
        "id": "0qgZin7wWccI"
      },
      "execution_count": null,
      "outputs": []
    },
    {
      "cell_type": "code",
      "source": [
        "df.shape"
      ],
      "metadata": {
        "id": "Y6wAQqMfWccI"
      },
      "execution_count": null,
      "outputs": []
    },
    {
      "cell_type": "markdown",
      "source": [
        "Before we proceed with further analysis or model building, it's crucial to ensure the quality of our data. This involves checking for and handling missing values (NaNs) and duplicate entries.\n",
        "\n",
        "1. **Missing Values**: Missing data can lead to misleading results and reduce the statistical power of the model. Therefore, we need to check if our dataset contains any NaN values.\n",
        "\n",
        "2. **Duplicate Values**: Duplicate entries can bias the analysis by over-representing certain observations. Hence, it's important to identify and remove any duplicates in our dataset.\n"
      ],
      "metadata": {
        "id": "C2H-256bWccI"
      }
    },
    {
      "cell_type": "code",
      "source": [
        "df.isna().sum()"
      ],
      "metadata": {
        "id": "pn_b0cPgWccJ"
      },
      "execution_count": null,
      "outputs": []
    },
    {
      "cell_type": "code",
      "source": [
        "df.loc[df.duplicated()]"
      ],
      "metadata": {
        "id": "44nOer_PWccJ"
      },
      "execution_count": null,
      "outputs": []
    },
    {
      "cell_type": "code",
      "source": [
        "df = df.drop_duplicates().reset_index(drop= True)\n",
        "df.shape"
      ],
      "metadata": {
        "id": "UyBvb_mgWccJ"
      },
      "execution_count": null,
      "outputs": []
    },
    {
      "cell_type": "markdown",
      "source": [
        "Now that our data is cleaned and we've narrowed down our focus to diseases with 10 or more samples, let's visualize the distribution of these classes. Understanding the balance of classes is important as it can influence the performance of our machine learning model.\n",
        "\n",
        "We'll use a pie chart for this purpose. Let's plot this chart and see how balanced our classes are."
      ],
      "metadata": {
        "id": "XE16BD7KWccJ"
      }
    },
    {
      "cell_type": "code",
      "source": [
        "import plotly.express as px\n",
        "\n",
        "disease_counts = df['Disease'].value_counts().reset_index()\n",
        "disease_counts.columns = ['Disease', 'Count']\n",
        "\n",
        "fig = px.pie(disease_counts,\n",
        "             values= 'Count',\n",
        "             names= 'Disease',\n",
        "             color_discrete_sequence= px.colors.sequential.Reds_r,\n",
        "             title= 'Disease Distribution')\n",
        "\n",
        "fig.update_traces(textinfo='percent+label')\n",
        "\n",
        "fig.show()"
      ],
      "metadata": {
        "id": "TO9-WDMXWccJ"
      },
      "execution_count": null,
      "outputs": []
    },
    {
      "cell_type": "markdown",
      "source": [
        "From the pie chart, it's evident that our classes are imbalanced. Diseases like Hypertension, Diabetes, and Migraine have approximately 1.7 times fewer samples than Asthma. We have to handle class imbalance\n",
        "\n",
        "But before we proceed with that, let's first process our categorical variables. This will allow us to perform a univariate analysis, which involves the examination of one variable at a time. This analysis can provide valuable insights into the distribution and characteristics of our variables."
      ],
      "metadata": {
        "id": "xnZSPIt0WccJ"
      }
    },
    {
      "cell_type": "code",
      "source": [
        "dicc = {'Yes':1, 'No':0, 'Low':1, 'Normal':2, 'High':3, 'Positive':1, 'Negative':0, 'Male':0, 'Female': 1}\n",
        "def replace(x, dicc= dicc):\n",
        "    if x in dicc:\n",
        "        x = dicc[x]\n",
        "    return x\n",
        "df = df.applymap(replace)\n",
        "df.head()"
      ],
      "metadata": {
        "id": "_Q2vZBEdWccJ"
      },
      "execution_count": null,
      "outputs": []
    },
    {
      "cell_type": "code",
      "source": [
        "df.dtypes"
      ],
      "metadata": {
        "id": "h3MBXjzrWccJ"
      },
      "execution_count": null,
      "outputs": []
    },
    {
      "cell_type": "markdown",
      "source": [
        "Having converted our categorical data into numerical format, we are now ready to perform univariate analysis. This analysis will help us understand the distribution of our variables and their individual impact on the disease prediction.\n",
        "\n",
        "We'll start with the 'Age' variable. Age is a crucial factor in many diseases, and understanding its distribution and relationship with various diseases can provide valuable insights.\n",
        "\n",
        "Following that, we'll examine the other variables one by one. Each of these variables - symptoms, gender, blood pressure, and cholesterol level - could potentially play a significant role in disease prediction. By analyzing them individually, we can gain a deeper understanding of their characteristics and importance.\n"
      ],
      "metadata": {
        "id": "MhNl1rk6WccJ"
      }
    },
    {
      "cell_type": "code",
      "source": [
        "fig = px.histogram(df,\n",
        "             x = 'Age',\n",
        "             title='Age-Disease Distribution',\n",
        "             color= 'Disease'\n",
        "                  )\n",
        "fig.update_layout(bargap=0.2)\n",
        "\n",
        "fig.show()"
      ],
      "metadata": {
        "id": "pwCNAKdIWccJ"
      },
      "execution_count": null,
      "outputs": []
    },
    {
      "cell_type": "markdown",
      "source": [
        "From our univariate analysis of the 'Age' variable, we observe some interesting patterns.\n",
        "\n",
        "1. If the age is greater than 80, the disease is likely to be a stroke. This aligns with the general understanding that the risk of stroke increases with age.\n",
        "\n",
        "2. Migraine and Hypertension are not present in ages between 20 and 30. This could suggest that these conditions are more prevalent in older age groups.\n",
        "\n",
        "3. Hypertension and Osteoporosis appear more frequently as the age increases, indicating a potential correlation between these diseases and age.\n",
        "\n",
        "These observations suggest that age is a valuable feature for predicting certain diseases. However, it's important to note that our dataset has limited samples, especially for ages greater than 80. This could make predicting new values in this age range challenging.\n",
        "\n",
        "Next, let's analyze how the other variables interact with different diseases. This will help us understand their potential as predictors and identify any patterns or correlations."
      ],
      "metadata": {
        "id": "0ohiqhzRWccJ"
      }
    },
    {
      "cell_type": "code",
      "source": [
        "import plotly.subplots as sp\n",
        "\n",
        "def subplots(df, columns):\n",
        "    fig = sp.make_subplots(rows=2, cols=2, subplot_titles= columns)\n",
        "    for idx, column in enumerate(columns):\n",
        "        i = idx // 2 + 1\n",
        "        j = idx % 2 + 1\n",
        "        fig_express = px.histogram(df, x=column, title=column + '-Disease Distribution', color='Disease')\n",
        "        for trace in fig_express.data:\n",
        "            fig.add_trace(trace, row=i, col=j)\n",
        "    fig.update_layout(height=600, width=800, title_text=\"\")\n",
        "    fig.show()\n",
        "subplots(df, df.columns[1:5])"
      ],
      "metadata": {
        "id": "_i9N4ZQCWccJ"
      },
      "execution_count": null,
      "outputs": []
    },
    {
      "cell_type": "code",
      "source": [
        "subplots(df, df.columns[6:])"
      ],
      "metadata": {
        "id": "HJ1cr1jQWccJ"
      },
      "execution_count": null,
      "outputs": []
    },
    {
      "cell_type": "markdown",
      "source": [
        "Upon visual inspection of the other variables, we can observe significant differences in disease prediction based on each feature's values. For instance, whether a person has high, normal, or low cholesterol levels can significantly influence the prediction of a disease. This is consistent with real-world observations where these variables often vary among different diseases.\n",
        "\n",
        "Some valuable insights we can glean from this analysis include:\n",
        "\n",
        "1. A person with low blood pressure does not have a stroke. This could be a crucial factor in stroke prediction.\n",
        "\n",
        "2. Fatigue, cholesterol level, and blood pressure are the features that show the most variation among different values. These could potentially be strong predictors in our model.\n",
        "\n",
        "These observations underscore the importance of these variables in predicting diseases.\n",
        "\n",
        "Next, let's examine how these variables correlate with each other. Understanding the relationships between different variables can help us identify patterns and potential multicollinearity, which could influence our model's performance.\n",
        "\n",
        "We'll use the `LabelEncoder` from `sklearn` to convert our categorical variables into numerical format for this correlation analysis."
      ],
      "metadata": {
        "id": "GeyFbyLlWccK"
      }
    },
    {
      "cell_type": "code",
      "source": [
        "from sklearn.preprocessing import LabelEncoder\n",
        "le = LabelEncoder()\n",
        "df.Disease = le.fit_transform(df.Disease)\n",
        "df.head()"
      ],
      "metadata": {
        "id": "Mww4ayMuWccK"
      },
      "execution_count": null,
      "outputs": []
    },
    {
      "cell_type": "code",
      "source": [
        "corr_df = df.corr()\n",
        "fig = px.imshow(corr_df, color_continuous_scale= px.colors.sequential.Blues)\n",
        "fig.show()"
      ],
      "metadata": {
        "id": "sQwE9n2HWccK"
      },
      "execution_count": null,
      "outputs": []
    },
    {
      "cell_type": "markdown",
      "source": [
        "From the correlation graph, we can observe that none of the variables strongly correlate with the 'Disease' variable. The most correlated variables are 'Age' and 'Difficulty Breathing', but even these only score 0.4 and -0.4 respectively.\n",
        "\n",
        "In situations where we have multiple variables with low correlation scores, machine learning can be a viable alternative for prediction tasks. However, it's important to note that machine learning algorithms, especially deep learning ones, typically require large amounts of data to perform optimally.\n",
        "\n",
        "In our case, we have only 69 data points, which is relatively small. Furthermore, we are dealing with a multi-class problem with few examples for each disease, which adds to the complexity.\n",
        "\n",
        "Given these constraints, we will try two machine learning algorithms that can perform well without a lot of data: K-Nearest Neighbors (K-NN) and Support Vector Machines (SVM). We will fine-tune these models and select the one that performs best.\n",
        "\n",
        "Let's proceed with data preprocessing and fit our data into these algorithms."
      ],
      "metadata": {
        "id": "Ac8zoe_DWccK"
      }
    },
    {
      "cell_type": "markdown",
      "source": [
        "## Model Selection"
      ],
      "metadata": {
        "id": "Wu_N_s4pWccK"
      }
    },
    {
      "cell_type": "code",
      "source": [
        "from sklearn.model_selection import train_test_split, GridSearchCV, StratifiedKFold\n",
        "from sklearn.preprocessing import StandardScaler\n",
        "from sklearn.neighbors import KNeighborsClassifier\n",
        "from sklearn.svm import SVC\n",
        "from sklearn.pipeline import Pipeline\n",
        "\n",
        "X = df.drop(['Disease'], axis= 1).values\n",
        "y = df.Disease.values"
      ],
      "metadata": {
        "id": "hI8BSY5NWccK"
      },
      "execution_count": null,
      "outputs": []
    },
    {
      "cell_type": "code",
      "source": [
        "X_train, X_val, y_train, y_val = train_test_split(X, y, test_size= 0.4, shuffle= True, stratify= y, random_state=30)\n",
        "X_val, X_test, y_val, y_test = train_test_split(X_val, y_val, test_size= 0.5, shuffle= True, stratify= y_val, random_state=30)"
      ],
      "metadata": {
        "id": "hp7zpk9-WccK"
      },
      "execution_count": null,
      "outputs": []
    },
    {
      "cell_type": "code",
      "source": [
        "svc_pipe = Pipeline([('scaler', StandardScaler()), ('svc', SVC(class_weight= 'balanced'))])\n",
        "knn_pipe = Pipeline([('scaler', StandardScaler()), ('knn', KNeighborsClassifier())])"
      ],
      "metadata": {
        "id": "yQ_e1_DHWccK"
      },
      "execution_count": null,
      "outputs": []
    },
    {
      "cell_type": "code",
      "source": [
        "svc_pipe.fit(X_train, y_train)\n",
        "knn_pipe.fit(X_train, y_train)"
      ],
      "metadata": {
        "id": "7xz1fyToWccK"
      },
      "execution_count": null,
      "outputs": []
    },
    {
      "cell_type": "code",
      "source": [
        "ysvc_pred = svc_pipe.predict(X_val)\n",
        "yknn_pred = knn_pipe.predict(X_val)"
      ],
      "metadata": {
        "id": "hQVk_5Z4WccO"
      },
      "execution_count": null,
      "outputs": []
    },
    {
      "cell_type": "markdown",
      "source": [
        "\n",
        "Given our problem of multi-class classification with imbalanced classes, the F1 score (macro-averaged) is an appropriate choice. The F1 score is the harmonic mean of precision and recall, and it gives a better measure of the incorrectly classified cases than the accuracy metric.\n",
        "\n",
        "The macro-averaged F1 score calculates the F1 score for each class independently and then takes the average. This treats all classes equally, regardless of their imbalance, which is exactly what we need for our problem.\n",
        "\n",
        "Our goal is to maximize this F1 score."
      ],
      "metadata": {
        "id": "M7gvAsp3WccO"
      }
    },
    {
      "cell_type": "code",
      "source": [
        "from sklearn.metrics import f1_score, accuracy_score, recall_score\n",
        "models = ['Base_KNN', ' Base_SVC']\n",
        "\n",
        "f1 = [f1_score(y_val, yknn_pred, average= 'macro', zero_division= 0), f1_score(y_val, ysvc_pred, average= 'macro', zero_division= 0)]\n",
        "accuracy = [accuracy_score(y_val, yknn_pred), accuracy_score(y_val, ysvc_pred)]\n",
        "recall = [recall_score(y_val, yknn_pred, average= 'macro'), recall_score(y_val, ysvc_pred, average= 'macro')]\n",
        "\n",
        "metrics_df = pd.DataFrame({'Models': models, 'f1': f1, 'Accuracy': accuracy, 'Recall': recall})\n",
        "#metrics_df = metrics_df.melt(id_vars='Models', var_name='metric', value_name='score')"
      ],
      "metadata": {
        "id": "Ojrp22yvWccO"
      },
      "execution_count": null,
      "outputs": []
    },
    {
      "cell_type": "code",
      "source": [
        "fig = px.bar(metrics_df, x='Models', y= ['f1', 'Accuracy', 'Recall'], barmode= 'group', color_discrete_sequence= px.colors.sequential.RdBu_r)\n",
        "fig.show( )"
      ],
      "metadata": {
        "id": "eQMD5E_lWccO"
      },
      "execution_count": null,
      "outputs": []
    },
    {
      "cell_type": "markdown",
      "source": [
        "After training our K-Nearest Neighbors (K-NN) and Support Vector Machines (SVM) models, we observe that SVM significantly outperforms K-NN in terms of the macro-averaged F1 score.\n",
        "\n",
        "Given this performance difference, it makes sense to focus our efforts on the SVM model. We will proceed with fine-tuning this model to see if we can further improve the F1 score."
      ],
      "metadata": {
        "id": "GVvOopp8WccO"
      }
    },
    {
      "cell_type": "markdown",
      "source": [
        "## Fine-tuning"
      ],
      "metadata": {
        "id": "TTSSCxxFWccO"
      }
    },
    {
      "cell_type": "code",
      "source": [
        "from sklearn.metrics import make_scorer\n",
        "f1_scorer = make_scorer(f1_score, average='macro', zero_division=0)\n",
        "parameters = {\n",
        "    'svc__C': [0.1, 1, 10],\n",
        "    'svc__kernel': ['linear', 'rbf', 'poly', 'sigmoid'],\n",
        "    'svc__gamma': ['scale', 'auto'],\n",
        "    'svc__shrinking': [True, False],\n",
        "    'svc__decision_function_shape': ['ovo', 'ovr']\n",
        "}\n",
        "\n",
        "grid_search = GridSearchCV(svc_pipe, parameters, cv=5, scoring= f1_scorer)\n",
        "\n",
        "grid_search.fit(X_train, y_train)\n",
        "\n",
        "print(\"Best Score: \", grid_search.best_score_)\n",
        "print(\"Best Params: \", grid_search.best_params_)\n",
        "\n",
        "best_clf = grid_search.best_estimator_"
      ],
      "metadata": {
        "id": "KlcDL6QCWccO"
      },
      "execution_count": null,
      "outputs": []
    },
    {
      "cell_type": "code",
      "source": [
        "results = pd.DataFrame(grid_search.cv_results_)\n",
        "results = results[['param_svc__C', 'param_svc__kernel', 'param_svc__gamma', 'param_svc__shrinking',\n",
        "                  'param_svc__decision_function_shape', 'mean_test_score']]\n",
        "results"
      ],
      "metadata": {
        "id": "xTFOZw5HWccO"
      },
      "execution_count": null,
      "outputs": []
    },
    {
      "cell_type": "markdown",
      "source": [
        "In addition to the kernel and C parameters, we will analyze the significance of other hyperparameters in achieving the highest F1 score. While the kernel and C parameters are known to have a significant impact on SVM performance, it's important to consider the influence of other hyperparameters as well.\n",
        "\n",
        "We will specifically investigate the impact of hyperparameters such as the shrinking and the decision function shape.\n",
        "\n",
        "Analyzing the relationship between these hyperparameters and the F1 score will provide us with a more comprehensive understanding of the model's behavior.\n",
        "\n",
        "Let's proceed with the hyperparameter analysis and determine the optimal values for achieving the highest F1 score."
      ],
      "metadata": {
        "id": "B0wfKb9lWccO"
      }
    },
    {
      "cell_type": "code",
      "source": [
        "from plotly.subplots import make_subplots\n",
        "import plotly.graph_objects as go\n",
        "grouped = results.groupby(['param_svc__C', 'param_svc__kernel', 'param_svc__shrinking'])['mean_test_score'].mean().reset_index()\n",
        "\n",
        "pivot_table_true = grouped[grouped['param_svc__shrinking'] == True].pivot(\n",
        "    'param_svc__C', 'param_svc__kernel', 'mean_test_score')\n",
        "\n",
        "pivot_table_false = grouped[grouped['param_svc__shrinking'] == False].pivot(\n",
        "    'param_svc__C', 'param_svc__kernel', 'mean_test_score')\n",
        "\n",
        "fig = make_subplots(rows=1, cols=2)\n",
        "\n",
        "fig.add_trace(\n",
        "    go.Heatmap(z=pivot_table_true.values, x=pivot_table_true.columns,\n",
        "               y=pivot_table_true.index, colorscale='RdBu', showscale=False),\n",
        "    row=1, col=1\n",
        ")\n",
        "\n",
        "fig.add_trace(\n",
        "    go.Heatmap(z=pivot_table_false.values, x=pivot_table_false.columns,\n",
        "               y=pivot_table_false.index, colorscale='RdBu'),\n",
        "    row=1, col=2\n",
        ")\n",
        "\n",
        "fig.update_layout(\n",
        "    height=500, width=1000, title_text=\"Mean Test Score for SVC shrinking Hyperparameter\",\n",
        "    annotations=[\n",
        "        go.layout.Annotation(\n",
        "            text=\"Shrinking: True\",\n",
        "            xref=\"paper\", yref=\"paper\",\n",
        "            x=0.25, y=1.07, showarrow=False,\n",
        "            font=dict(size=14,)\n",
        "        ),\n",
        "        go.layout.Annotation(\n",
        "            text=\"Shrinking: False\",\n",
        "            xref=\"paper\", yref=\"paper\",\n",
        "            x=0.75, y=1.07, showarrow=False,\n",
        "            font=dict(size=14,)\n",
        "        )\n",
        "    ]\n",
        ")\n",
        "fig.update_xaxes(title_text=\"Kernel\", row=1, col=1)\n",
        "fig.update_xaxes(title_text=\"Kernel\", row=1, col=2)\n",
        "fig.update_yaxes(title_text=\"C\", row=1, col=1)\n",
        "fig.update_yaxes(title_text=\"C\", row=1, col=2)\n",
        "\n",
        "fig.show()"
      ],
      "metadata": {
        "id": "HTEj8uwtWccO"
      },
      "execution_count": null,
      "outputs": []
    },
    {
      "cell_type": "markdown",
      "source": [
        "Here we can see that there is no meaningful difference between using the shrinking hyperparameter or not. Here, the kernel and C variants determine the mean test score with no differences, whether the parameter is true or false. Now let's see if the decision function shape makes a difference or not."
      ],
      "metadata": {
        "id": "3vvh2U5YWccP"
      }
    },
    {
      "cell_type": "code",
      "source": [
        "grouped = results.groupby(['param_svc__C', 'param_svc__kernel', 'param_svc__decision_function_shape'])['mean_test_score'].mean().reset_index()\n",
        "\n",
        "pivot_table_true = grouped[grouped['param_svc__decision_function_shape'] == 'ovo'].pivot(\n",
        "    'param_svc__C', 'param_svc__kernel', 'mean_test_score')\n",
        "\n",
        "pivot_table_false = grouped[grouped['param_svc__decision_function_shape'] == 'ovr'].pivot(\n",
        "    'param_svc__C', 'param_svc__kernel', 'mean_test_score')\n",
        "\n",
        "fig = make_subplots(rows=1, cols=2)\n",
        "\n",
        "fig.add_trace(\n",
        "    go.Heatmap(z=pivot_table_true.values, x=pivot_table_true.columns,\n",
        "               y=pivot_table_true.index, colorscale= px.colors.sequential.Cividis_r, showscale=False),\n",
        "    row=1, col=1\n",
        ")\n",
        "\n",
        "fig.add_trace(\n",
        "    go.Heatmap(z=pivot_table_false.values, x=pivot_table_false.columns,\n",
        "               y=pivot_table_false.index, colorscale= px.colors.sequential.Cividis_r),\n",
        "    row=1, col=2\n",
        ")\n",
        "\n",
        "fig.update_layout(\n",
        "    height=500, width=1000, title_text=\"Mean Test Score for SVC decision function Hyperparameter\",\n",
        "    annotations=[\n",
        "        go.layout.Annotation(\n",
        "            text=\"Desicion function: ovo\",\n",
        "            xref=\"paper\", yref=\"paper\",\n",
        "            x=0.25, y=1.07, showarrow=False,\n",
        "            font=dict(size=14,)\n",
        "        ),\n",
        "        go.layout.Annotation(\n",
        "            text=\"Decision function: ovr\",\n",
        "            xref=\"paper\", yref=\"paper\",\n",
        "            x=0.75, y=1.07, showarrow=False,\n",
        "            font=dict(size=14,)\n",
        "        )\n",
        "    ]\n",
        ")\n",
        "fig.update_xaxes(title_text=\"Kernel\", row=1, col=1)\n",
        "fig.update_xaxes(title_text=\"Kernel\", row=1, col=2)\n",
        "fig.update_yaxes(title_text=\"C\", row=1, col=1)\n",
        "fig.update_yaxes(title_text=\"C\", row=1, col=2)\n",
        "\n",
        "fig.show()"
      ],
      "metadata": {
        "id": "4B4Non1kWccP"
      },
      "execution_count": null,
      "outputs": []
    },
    {
      "cell_type": "markdown",
      "source": [
        "Here we can observe a similar result as with the shrinking hyperparameter - there is no effect on the score when we use OVO (One-vs-One) or OVR (One-vs-Rest) for the decision function. Now, let's plot how the score changes when we modify the kernel and the C parameter."
      ],
      "metadata": {
        "id": "2kUN8D3AWccP"
      }
    },
    {
      "cell_type": "code",
      "source": [
        "fig = px.line(results, x=\"param_svc__C\", y=\"mean_test_score\",\n",
        "              color=\"param_svc__kernel\",\n",
        "              line_group=\"param_svc__shrinking\",\n",
        "              hover_name=\"param_svc__decision_function_shape\",\n",
        "              labels={\"mean_test_score\": \"Mean Test Score\", \"param_svc__C\": \"C\"},\n",
        "              title=\"Mean Test Score for each SVC Parameter\")\n",
        "fig.show()"
      ],
      "metadata": {
        "id": "krK_ovR2WccP"
      },
      "execution_count": null,
      "outputs": []
    },
    {
      "cell_type": "markdown",
      "source": [
        "We can observe a significant effect of the kernel and C parameter on the mean test scores. The range of scores varies widely, ranging from 0.06 to 0.255. This emphasizes the importance of these parameters in the SVC (Support Vector Classifier).\n",
        "\n",
        "Lastly, we will use the best model to predict our test data and report the final results. Additionally, we will examine the samples that were classified incorrectly. Let's proceed with these tasks."
      ],
      "metadata": {
        "id": "TnfAG_vCWccP"
      }
    },
    {
      "cell_type": "markdown",
      "source": [
        "## Model Testing"
      ],
      "metadata": {
        "id": "BwcibAEvWccP"
      }
    },
    {
      "cell_type": "code",
      "source": [
        "y_pred_test = best_clf.predict(X_test)\n",
        "print('Test score with best model: ', f1_score(y_test, y_pred_test, average= 'macro', zero_division= 0))"
      ],
      "metadata": {
        "id": "If6A2dj8WccP"
      },
      "execution_count": null,
      "outputs": []
    },
    {
      "cell_type": "code",
      "source": [
        "import pandas as pd\n",
        "\n",
        "X_test_df = pd.DataFrame(X_test)\n",
        "df = pd.DataFrame({'actual': le.inverse_transform(y_test), 'predicted': le.inverse_transform(y_pred_test)})\n",
        "df = df.set_index(X_test_df.index)\n",
        "df = pd.concat([X_test_df, df], axis=1)\n",
        "misclassified = df[df['actual'] != df['predicted']]\n",
        "\n",
        "print(misclassified)"
      ],
      "metadata": {
        "id": "fohri2pVWccP"
      },
      "execution_count": null,
      "outputs": []
    },
    {
      "cell_type": "markdown",
      "source": [
        "Here, we can observe that this model performs well in predicting asthma cases but performs poorly in predicting other conditions in general. This suggests that we can use this model with a one-vs-all approach, where one class represents asthma, and the model can be used as a second opinion to determine if a person has asthma or not.\n",
        "\n",
        "It's important to note that asthma is the most frequent class in the training data used for this model. However, even with this imbalance, we have a limited number of samples. Therefore, we can consider implementing data augmentation techniques to see if the model can improve its accuracy in predicting the other diseases.\n",
        "\n",
        "By augmenting the data, we can generate additional samples using techniques such as rotation, scaling, or adding noise. This can potentially help the model generalize better and improve its performance in predicting the less frequent diseases.\n",
        "\n",
        "Overall, it is crucial to explore different approaches, such as data augmentation, to enhance the model's accuracy and make more accurate predictions for a wider range of conditions."
      ],
      "metadata": {
        "id": "ZQ1jjnIYWccP"
      }
    },
    {
      "cell_type": "markdown",
      "source": [
        "# Conclusion"
      ],
      "metadata": {
        "id": "fl7AoP5tWccQ"
      }
    },
    {
      "cell_type": "markdown",
      "source": [
        "In conclusion, this notebook explored the prediction of diseases using basic medical information. The model achieved an F1 macro average score of 0.3611 for the six classes, indicating room for improvement in accurately predicting diseases with basic medical information alone.\n",
        "\n",
        "While the current model's performance may be limited, there are opportunities for further exploration and enhancement. Collecting diverse data, employing feature engineering techniques, exploring alternative algorithms, fine-tuning hyperparameters, and seeking domain expertise can contribute to improving the model's accuracy and reliability.\n",
        "\n",
        "Thank you for taking the time to read this notebook. If you found it informative and would like to learn more, I invite you to visit my profile and explore other notebooks I have created. Your continued support and interest are greatly appreciated. Hope you enjoyed it :)\n"
      ],
      "metadata": {
        "id": "7VPZdnhDWccQ"
      }
    }
  ]
}